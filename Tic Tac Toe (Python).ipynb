{
 "cells": [
  {
   "cell_type": "code",
   "execution_count": 3,
   "metadata": {},
   "outputs": [],
   "source": [
    "from IPython.display import clear_output\n",
    "\n",
    "def display_board(board):\n",
    "    clear_output()  # Remember, this only works in jupyter!\n",
    "    \n",
    "    print('                                       |   |')\n",
    "    print('                                     ' + board[7] + ' | ' + board[8] + ' | ' + board[9])\n",
    "    print('                                       |   |')\n",
    "    print('                                    -----------')\n",
    "    print('                                       |   |')\n",
    "    print('                                     ' + board[4] + ' | ' + board[5] + ' | ' + board[6])\n",
    "    print('                                       |   |')\n",
    "    print('                                    -----------')\n",
    "    print('                                       |   |')\n",
    "    print('                                     ' + board[1] + ' | ' + board[2] + ' | ' + board[3])\n",
    "    print('                                       |   |')"
   ]
  },
  {
   "cell_type": "code",
   "execution_count": null,
   "metadata": {},
   "outputs": [],
   "source": [
    "game_board = ['#','1','2','3','4','5','6', '7','8','9']"
   ]
  },
  {
   "cell_type": "code",
   "execution_count": null,
   "metadata": {},
   "outputs": [],
   "source": [
    "# take input of X or O\n",
    "def marker_choice():\n",
    "    marker = ' '\n",
    "    while marker not in ['X','O']:\n",
    "        marker = input('Player 1 please enter you choice (O or X) : ').upper()\n",
    "    if marker == 'X':\n",
    "        return ('X','O')\n",
    "    else:\n",
    "        return ('O','X')"
   ]
  },
  {
   "cell_type": "code",
   "execution_count": 5,
   "metadata": {},
   "outputs": [],
   "source": [
    "# take X , O and position as arguments and assign the value to the position\n",
    "def board_marker(board,marker,position):\n",
    "    board[position] = marker\n"
   ]
  },
  {
   "cell_type": "code",
   "execution_count": 6,
   "metadata": {},
   "outputs": [],
   "source": [
    "def win_check(board,mark):\n",
    "    \n",
    "    return ((board[7] == mark and board[8] == mark and board[9] == mark) or # across the top\n",
    "    (board[4] == mark and board[5] == mark and board[6] == mark) or # across the middle\n",
    "    (board[1] == mark and board[2] == mark and board[3] == mark) or # across the bottom\n",
    "    (board[7] == mark and board[4] == mark and board[1] == mark) or # down the middle\n",
    "    (board[8] == mark and board[5] == mark and board[2] == mark) or # down the middle\n",
    "    (board[9] == mark and board[6] == mark and board[3] == mark) or # down the right side\n",
    "    (board[7] == mark and board[5] == mark and board[3] == mark) or # diagonal\n",
    "    (board[9] == mark and board[5] == mark and board[1] == mark)) # diagonal"
   ]
  },
  {
   "cell_type": "code",
   "execution_count": 7,
   "metadata": {},
   "outputs": [],
   "source": [
    "# randomly decide which player should go first\n",
    "import random\n",
    "\n",
    "def choose_first():\n",
    "    if random.randint(0,1) == 0:\n",
    "        return 'Player 1'\n",
    "    else:\n",
    "        return 'Player 2'"
   ]
  },
  {
   "cell_type": "code",
   "execution_count": 8,
   "metadata": {},
   "outputs": [],
   "source": [
    "# check for empty spaces\n",
    "def space_check(board, position):\n",
    "    return board[position] == ' '"
   ]
  },
  {
   "cell_type": "code",
   "execution_count": 9,
   "metadata": {},
   "outputs": [],
   "source": [
    "# check if board is full\n",
    "def full_board_check(board):\n",
    "    for i in range(1,10):\n",
    "        if space_check(board,i):\n",
    "            return False\n",
    "    return True\n",
    "       "
   ]
  },
  {
   "cell_type": "code",
   "execution_count": 13,
   "metadata": {},
   "outputs": [],
   "source": [
    "# input player choice of position\n",
    "def player_choice(board):\n",
    "    position = 0\n",
    "    \n",
    "    while position not in [1,2,3,4,5,6,7,8,9] or not space_check(board, position):\n",
    "        position = int(input('Choose your position: (1-9) '))\n",
    "    return position"
   ]
  },
  {
   "cell_type": "code",
   "execution_count": 11,
   "metadata": {},
   "outputs": [],
   "source": [
    "# replay game -- play again or not\n",
    "def replay():\n",
    "    return input('Do you want to play again? Enter Yes or No: ').lower().startswith('y')"
   ]
  },
  {
   "cell_type": "code",
   "execution_count": 14,
   "metadata": {},
   "outputs": [
    {
     "name": "stdout",
     "output_type": "stream",
     "text": [
      "                                       |   |\n",
      "                                     X | O | O\n",
      "                                       |   |\n",
      "                                    -----------\n",
      "                                       |   |\n",
      "                                     X | O | X\n",
      "                                       |   |\n",
      "                                    -----------\n",
      "                                       |   |\n",
      "                                     O | X | O\n",
      "                                       |   |\n",
      "Player 1 has won\n",
      "Do you want to play again? Enter Yes or No: no\n"
     ]
    }
   ],
   "source": [
    "# Game Function\n",
    "\n",
    "import time\n",
    "display_board(game_board)\n",
    "print()\n",
    "print('                               Here is your Game Board')\n",
    "print()\n",
    "print()\n",
    "print('Rules are as follows')\n",
    "print()\n",
    "print('1. Player 1 will choose from X or O')\n",
    "print()\n",
    "print('2. Toss will decide who will go first')\n",
    "print()\n",
    "print('3. A player can win horiontally,  vertically or diagonally')\n",
    "print()\n",
    "print()\n",
    "time.sleep(20)\n",
    "print('                              Welcome to Tic Tac Toe ')\n",
    "print()\n",
    "\n",
    "while True:\n",
    "    The_Board = [' ']*10   \n",
    "    player1_marker,player2_marker = marker_choice()\n",
    "    print()\n",
    "    time.sleep(2)\n",
    "    print('Player 1 has chosen '+ player1_marker)\n",
    "    print()\n",
    "    time.sleep(2)\n",
    "    print('Player 2 has chosen '+ player2_marker)\n",
    "    print()\n",
    "    time.sleep(2)\n",
    "    print('Toss is happening, Please wait')\n",
    "    time.sleep(2.5)\n",
    "    turn = choose_first()\n",
    "    print()\n",
    "    print(turn + ' will go first')\n",
    "    \n",
    "    ready = input('Are you ready to play (Y or N): ').upper()\n",
    "    if ready == 'Y':\n",
    "        game_on = True\n",
    "    else:\n",
    "        game_on = False\n",
    "        \n",
    "    while game_on:\n",
    "        #Player 1\n",
    "        \n",
    "        if turn == 'Player 1':\n",
    "            display_board(The_Board)\n",
    "            \n",
    "            pos = player_choice(The_Board)\n",
    "            board_marker(The_Board,player1_marker,pos)\n",
    "        \n",
    "            if win_check(The_Board,player1_marker):\n",
    "                display_board(The_Board)\n",
    "                print('Player 1 has won')\n",
    "                game_on = False\n",
    "            \n",
    "            else:\n",
    "                if full_board_check(The_Board):\n",
    "                    display_board(The_Board)\n",
    "                    print('Tie Game')\n",
    "                    game_on = False\n",
    "                else:\n",
    "                    turn = 'Player 2'\n",
    "                    \n",
    "        else:\n",
    "            display_board(The_Board)\n",
    "            \n",
    "            pos = player_choice(The_Board)\n",
    "            board_marker(The_Board,player2_marker,pos)\n",
    "        \n",
    "            if win_check(The_Board,player2_marker):\n",
    "                display_board(The_Board)\n",
    "                print('Player 2 has won')\n",
    "                game_on = False\n",
    "            \n",
    "            else:\n",
    "                if full_board_check(The_Board):\n",
    "                    display_board(The_Board)\n",
    "                    print('Tie Game')\n",
    "                    game_on = False\n",
    "                else:\n",
    "                    turn = 'Player 1'\n",
    "                    \n",
    "                    \n",
    "                    \n",
    "    if not replay():\n",
    "        break\n"
   ]
  }
 ],
 "metadata": {
  "kernelspec": {
   "display_name": "Python 3",
   "language": "python",
   "name": "python3"
  },
  "language_info": {
   "codemirror_mode": {
    "name": "ipython",
    "version": 3
   },
   "file_extension": ".py",
   "mimetype": "text/x-python",
   "name": "python",
   "nbconvert_exporter": "python",
   "pygments_lexer": "ipython3",
   "version": "3.8.5"
  }
 },
 "nbformat": 4,
 "nbformat_minor": 4
}
